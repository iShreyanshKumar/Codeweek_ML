{
  "nbformat": 4,
  "nbformat_minor": 0,
  "metadata": {
    "colab": {
      "provenance": [],
      "authorship_tag": "ABX9TyNr9IAlXOVIGzxLWG2RjlPX",
      "include_colab_link": true
    },
    "kernelspec": {
      "name": "python3",
      "display_name": "Python 3"
    },
    "language_info": {
      "name": "python"
    }
  },
  "cells": [
    {
      "cell_type": "markdown",
      "metadata": {
        "id": "view-in-github",
        "colab_type": "text"
      },
      "source": [
        "<a href=\"https://colab.research.google.com/github/iShreyanshKumar/Codeweek_ML/blob/main/Codeweek_2.ipynb\" target=\"_parent\"><img src=\"https://colab.research.google.com/assets/colab-badge.svg\" alt=\"Open In Colab\"/></a>"
      ]
    },
    {
      "cell_type": "markdown",
      "source": [
        "# Basic Tool Setup"
      ],
      "metadata": {
        "id": "Yhj6-c7NYuXB"
      }
    },
    {
      "cell_type": "code",
      "source": [
        "!pip install langchain_google_genai google_generativeai\n",
        "!pip install -U langchain-google-vertexai\n",
        "!pip install -U langgraph langchain\n",
        "!pip install -U langgraph langsmith\n",
        "\n",
        "from typing import Annotated\n",
        "\n",
        "from langchain_core.messages import BaseMessage\n",
        "from typing_extensions import TypedDict\n",
        "\n",
        "from langgraph.graph import StateGraph, START, END\n",
        "from langgraph.graph.message import add_messages\n",
        "from langgraph.prebuilt import ToolNode, tools_condition\n",
        "\n",
        "from langchain_core.tools import Tool\n",
        "\n",
        "!pip install langchain_tavily\n",
        "from langchain_tavily import TavilySearch\n",
        "\n",
        "from langgraph.checkpoint.memory import MemorySaver\n",
        "\n",
        "import os\n",
        "\n",
        "!pip install langgraph-supervisor\n",
        "from langgraph_supervisor import create_supervisor\n",
        "from langgraph.prebuilt import create_react_agent\n",
        "\n",
        "from langchain_google_genai import ChatGoogleGenerativeAI\n",
        "os.environ[\"GOOGLE_API_KEY\"]=\"\"\n",
        "os.environ[\"TAVILY_API_KEY\"] = \"\"\n",
        "WEATHER_API_KEY=\"\"\n",
        "\n",
        "llm = ChatGoogleGenerativeAI(\n",
        "    model=\"gemini-2.5-flash-preview-04-17\"\n",
        ")"
      ],
      "metadata": {
        "colab": {
          "base_uri": "https://localhost:8080/"
        },
        "id": "LRB6yPObGRIl",
        "outputId": "c43b2abb-16d4-440e-c207-a254d01fa7b7"
      },
      "execution_count": 1,
      "outputs": [
        {
          "output_type": "stream",
          "name": "stdout",
          "text": [
            "Requirement already satisfied: langchain_google_genai in /usr/local/lib/python3.11/dist-packages (2.0.10)\n",
            "Requirement already satisfied: google_generativeai in /usr/local/lib/python3.11/dist-packages (0.8.5)\n",
            "Requirement already satisfied: filetype<2.0.0,>=1.2.0 in /usr/local/lib/python3.11/dist-packages (from langchain_google_genai) (1.2.0)\n",
            "Requirement already satisfied: langchain-core<0.4.0,>=0.3.37 in /usr/local/lib/python3.11/dist-packages (from langchain_google_genai) (0.3.59)\n",
            "Requirement already satisfied: pydantic<3,>=2 in /usr/local/lib/python3.11/dist-packages (from langchain_google_genai) (2.11.4)\n",
            "Requirement already satisfied: google-ai-generativelanguage==0.6.15 in /usr/local/lib/python3.11/dist-packages (from google_generativeai) (0.6.15)\n",
            "Requirement already satisfied: google-api-core in /usr/local/lib/python3.11/dist-packages (from google_generativeai) (2.24.2)\n",
            "Requirement already satisfied: google-api-python-client in /usr/local/lib/python3.11/dist-packages (from google_generativeai) (2.169.0)\n",
            "Requirement already satisfied: google-auth>=2.15.0 in /usr/local/lib/python3.11/dist-packages (from google_generativeai) (2.38.0)\n",
            "Requirement already satisfied: protobuf in /usr/local/lib/python3.11/dist-packages (from google_generativeai) (5.29.4)\n",
            "Requirement already satisfied: tqdm in /usr/local/lib/python3.11/dist-packages (from google_generativeai) (4.67.1)\n",
            "Requirement already satisfied: typing-extensions in /usr/local/lib/python3.11/dist-packages (from google_generativeai) (4.13.2)\n",
            "Requirement already satisfied: proto-plus<2.0.0dev,>=1.22.3 in /usr/local/lib/python3.11/dist-packages (from google-ai-generativelanguage==0.6.15->google_generativeai) (1.26.1)\n",
            "Requirement already satisfied: googleapis-common-protos<2.0.0,>=1.56.2 in /usr/local/lib/python3.11/dist-packages (from google-api-core->google_generativeai) (1.70.0)\n",
            "Requirement already satisfied: requests<3.0.0,>=2.18.0 in /usr/local/lib/python3.11/dist-packages (from google-api-core->google_generativeai) (2.32.3)\n",
            "Requirement already satisfied: cachetools<6.0,>=2.0.0 in /usr/local/lib/python3.11/dist-packages (from google-auth>=2.15.0->google_generativeai) (5.5.2)\n",
            "Requirement already satisfied: pyasn1-modules>=0.2.1 in /usr/local/lib/python3.11/dist-packages (from google-auth>=2.15.0->google_generativeai) (0.4.2)\n",
            "Requirement already satisfied: rsa<5,>=3.1.4 in /usr/local/lib/python3.11/dist-packages (from google-auth>=2.15.0->google_generativeai) (4.9.1)\n",
            "Requirement already satisfied: langsmith<0.4,>=0.1.125 in /usr/local/lib/python3.11/dist-packages (from langchain-core<0.4.0,>=0.3.37->langchain_google_genai) (0.3.42)\n",
            "Requirement already satisfied: tenacity!=8.4.0,<10.0.0,>=8.1.0 in /usr/local/lib/python3.11/dist-packages (from langchain-core<0.4.0,>=0.3.37->langchain_google_genai) (9.1.2)\n",
            "Requirement already satisfied: jsonpatch<2.0,>=1.33 in /usr/local/lib/python3.11/dist-packages (from langchain-core<0.4.0,>=0.3.37->langchain_google_genai) (1.33)\n",
            "Requirement already satisfied: PyYAML>=5.3 in /usr/local/lib/python3.11/dist-packages (from langchain-core<0.4.0,>=0.3.37->langchain_google_genai) (6.0.2)\n",
            "Requirement already satisfied: packaging<25,>=23.2 in /usr/local/lib/python3.11/dist-packages (from langchain-core<0.4.0,>=0.3.37->langchain_google_genai) (24.2)\n",
            "Requirement already satisfied: annotated-types>=0.6.0 in /usr/local/lib/python3.11/dist-packages (from pydantic<3,>=2->langchain_google_genai) (0.7.0)\n",
            "Requirement already satisfied: pydantic-core==2.33.2 in /usr/local/lib/python3.11/dist-packages (from pydantic<3,>=2->langchain_google_genai) (2.33.2)\n",
            "Requirement already satisfied: typing-inspection>=0.4.0 in /usr/local/lib/python3.11/dist-packages (from pydantic<3,>=2->langchain_google_genai) (0.4.0)\n",
            "Requirement already satisfied: httplib2<1.0.0,>=0.19.0 in /usr/local/lib/python3.11/dist-packages (from google-api-python-client->google_generativeai) (0.22.0)\n",
            "Requirement already satisfied: google-auth-httplib2<1.0.0,>=0.2.0 in /usr/local/lib/python3.11/dist-packages (from google-api-python-client->google_generativeai) (0.2.0)\n",
            "Requirement already satisfied: uritemplate<5,>=3.0.1 in /usr/local/lib/python3.11/dist-packages (from google-api-python-client->google_generativeai) (4.1.1)\n",
            "Requirement already satisfied: grpcio<2.0dev,>=1.33.2 in /usr/local/lib/python3.11/dist-packages (from google-api-core[grpc]!=2.0.*,!=2.1.*,!=2.10.*,!=2.2.*,!=2.3.*,!=2.4.*,!=2.5.*,!=2.6.*,!=2.7.*,!=2.8.*,!=2.9.*,<3.0.0dev,>=1.34.1->google-ai-generativelanguage==0.6.15->google_generativeai) (1.71.0)\n",
            "Requirement already satisfied: grpcio-status<2.0.dev0,>=1.33.2 in /usr/local/lib/python3.11/dist-packages (from google-api-core[grpc]!=2.0.*,!=2.1.*,!=2.10.*,!=2.2.*,!=2.3.*,!=2.4.*,!=2.5.*,!=2.6.*,!=2.7.*,!=2.8.*,!=2.9.*,<3.0.0dev,>=1.34.1->google-ai-generativelanguage==0.6.15->google_generativeai) (1.71.0)\n",
            "Requirement already satisfied: pyparsing!=3.0.0,!=3.0.1,!=3.0.2,!=3.0.3,<4,>=2.4.2 in /usr/local/lib/python3.11/dist-packages (from httplib2<1.0.0,>=0.19.0->google-api-python-client->google_generativeai) (3.2.3)\n",
            "Requirement already satisfied: jsonpointer>=1.9 in /usr/local/lib/python3.11/dist-packages (from jsonpatch<2.0,>=1.33->langchain-core<0.4.0,>=0.3.37->langchain_google_genai) (3.0.0)\n",
            "Requirement already satisfied: httpx<1,>=0.23.0 in /usr/local/lib/python3.11/dist-packages (from langsmith<0.4,>=0.1.125->langchain-core<0.4.0,>=0.3.37->langchain_google_genai) (0.28.1)\n",
            "Requirement already satisfied: orjson<4.0.0,>=3.9.14 in /usr/local/lib/python3.11/dist-packages (from langsmith<0.4,>=0.1.125->langchain-core<0.4.0,>=0.3.37->langchain_google_genai) (3.10.18)\n",
            "Requirement already satisfied: requests-toolbelt<2.0.0,>=1.0.0 in /usr/local/lib/python3.11/dist-packages (from langsmith<0.4,>=0.1.125->langchain-core<0.4.0,>=0.3.37->langchain_google_genai) (1.0.0)\n",
            "Requirement already satisfied: zstandard<0.24.0,>=0.23.0 in /usr/local/lib/python3.11/dist-packages (from langsmith<0.4,>=0.1.125->langchain-core<0.4.0,>=0.3.37->langchain_google_genai) (0.23.0)\n",
            "Requirement already satisfied: pyasn1<0.7.0,>=0.6.1 in /usr/local/lib/python3.11/dist-packages (from pyasn1-modules>=0.2.1->google-auth>=2.15.0->google_generativeai) (0.6.1)\n",
            "Requirement already satisfied: charset-normalizer<4,>=2 in /usr/local/lib/python3.11/dist-packages (from requests<3.0.0,>=2.18.0->google-api-core->google_generativeai) (3.4.2)\n",
            "Requirement already satisfied: idna<4,>=2.5 in /usr/local/lib/python3.11/dist-packages (from requests<3.0.0,>=2.18.0->google-api-core->google_generativeai) (3.10)\n",
            "Requirement already satisfied: urllib3<3,>=1.21.1 in /usr/local/lib/python3.11/dist-packages (from requests<3.0.0,>=2.18.0->google-api-core->google_generativeai) (2.4.0)\n",
            "Requirement already satisfied: certifi>=2017.4.17 in /usr/local/lib/python3.11/dist-packages (from requests<3.0.0,>=2.18.0->google-api-core->google_generativeai) (2025.4.26)\n",
            "Requirement already satisfied: anyio in /usr/local/lib/python3.11/dist-packages (from httpx<1,>=0.23.0->langsmith<0.4,>=0.1.125->langchain-core<0.4.0,>=0.3.37->langchain_google_genai) (4.9.0)\n",
            "Requirement already satisfied: httpcore==1.* in /usr/local/lib/python3.11/dist-packages (from httpx<1,>=0.23.0->langsmith<0.4,>=0.1.125->langchain-core<0.4.0,>=0.3.37->langchain_google_genai) (1.0.9)\n",
            "Requirement already satisfied: h11>=0.16 in /usr/local/lib/python3.11/dist-packages (from httpcore==1.*->httpx<1,>=0.23.0->langsmith<0.4,>=0.1.125->langchain-core<0.4.0,>=0.3.37->langchain_google_genai) (0.16.0)\n",
            "Requirement already satisfied: sniffio>=1.1 in /usr/local/lib/python3.11/dist-packages (from anyio->httpx<1,>=0.23.0->langsmith<0.4,>=0.1.125->langchain-core<0.4.0,>=0.3.37->langchain_google_genai) (1.3.1)\n",
            "Requirement already satisfied: langchain-google-vertexai in /usr/local/lib/python3.11/dist-packages (2.0.24)\n",
            "Requirement already satisfied: bottleneck<2.0.0,>=1.4.2 in /usr/local/lib/python3.11/dist-packages (from langchain-google-vertexai) (1.4.2)\n",
            "Requirement already satisfied: google-cloud-aiplatform<2.0.0,>=1.92.0 in /usr/local/lib/python3.11/dist-packages (from langchain-google-vertexai) (1.92.0)\n",
            "Requirement already satisfied: google-cloud-storage<3.0.0,>=2.18.0 in /usr/local/lib/python3.11/dist-packages (from langchain-google-vertexai) (2.19.0)\n",
            "Requirement already satisfied: httpx<0.29.0,>=0.28.0 in /usr/local/lib/python3.11/dist-packages (from langchain-google-vertexai) (0.28.1)\n",
            "Requirement already satisfied: httpx-sse<0.5.0,>=0.4.0 in /usr/local/lib/python3.11/dist-packages (from langchain-google-vertexai) (0.4.0)\n",
            "Requirement already satisfied: langchain-core<0.4,>=0.3.55 in /usr/local/lib/python3.11/dist-packages (from langchain-google-vertexai) (0.3.59)\n",
            "Requirement already satisfied: numexpr<3.0.0,>=2.8.6 in /usr/local/lib/python3.11/dist-packages (from langchain-google-vertexai) (2.10.2)\n",
            "Requirement already satisfied: pyarrow<20.0.0,>=19.0.1 in /usr/local/lib/python3.11/dist-packages (from langchain-google-vertexai) (19.0.1)\n",
            "Requirement already satisfied: pydantic<3.0,>=2.9 in /usr/local/lib/python3.11/dist-packages (from langchain-google-vertexai) (2.11.4)\n",
            "Requirement already satisfied: validators<1,>=0.22.0 in /usr/local/lib/python3.11/dist-packages (from langchain-google-vertexai) (0.35.0)\n",
            "Requirement already satisfied: numpy in /usr/local/lib/python3.11/dist-packages (from bottleneck<2.0.0,>=1.4.2->langchain-google-vertexai) (2.0.2)\n",
            "Requirement already satisfied: google-api-core!=2.0.*,!=2.1.*,!=2.2.*,!=2.3.*,!=2.4.*,!=2.5.*,!=2.6.*,!=2.7.*,<3.0.0,>=1.34.1 in /usr/local/lib/python3.11/dist-packages (from google-api-core[grpc]!=2.0.*,!=2.1.*,!=2.2.*,!=2.3.*,!=2.4.*,!=2.5.*,!=2.6.*,!=2.7.*,<3.0.0,>=1.34.1->google-cloud-aiplatform<2.0.0,>=1.92.0->langchain-google-vertexai) (2.24.2)\n",
            "Requirement already satisfied: google-auth<3.0.0,>=2.14.1 in /usr/local/lib/python3.11/dist-packages (from google-cloud-aiplatform<2.0.0,>=1.92.0->langchain-google-vertexai) (2.38.0)\n",
            "Requirement already satisfied: proto-plus<2.0.0,>=1.22.3 in /usr/local/lib/python3.11/dist-packages (from google-cloud-aiplatform<2.0.0,>=1.92.0->langchain-google-vertexai) (1.26.1)\n",
            "Requirement already satisfied: protobuf!=4.21.0,!=4.21.1,!=4.21.2,!=4.21.3,!=4.21.4,!=4.21.5,<7.0.0,>=3.20.2 in /usr/local/lib/python3.11/dist-packages (from google-cloud-aiplatform<2.0.0,>=1.92.0->langchain-google-vertexai) (5.29.4)\n",
            "Requirement already satisfied: packaging>=14.3 in /usr/local/lib/python3.11/dist-packages (from google-cloud-aiplatform<2.0.0,>=1.92.0->langchain-google-vertexai) (24.2)\n",
            "Requirement already satisfied: google-cloud-bigquery!=3.20.0,<4.0.0,>=1.15.0 in /usr/local/lib/python3.11/dist-packages (from google-cloud-aiplatform<2.0.0,>=1.92.0->langchain-google-vertexai) (3.32.0)\n",
            "Requirement already satisfied: google-cloud-resource-manager<3.0.0,>=1.3.3 in /usr/local/lib/python3.11/dist-packages (from google-cloud-aiplatform<2.0.0,>=1.92.0->langchain-google-vertexai) (1.14.2)\n",
            "Requirement already satisfied: shapely<3.0.0 in /usr/local/lib/python3.11/dist-packages (from google-cloud-aiplatform<2.0.0,>=1.92.0->langchain-google-vertexai) (2.1.0)\n",
            "Requirement already satisfied: google-genai<2.0.0,>=1.0.0 in /usr/local/lib/python3.11/dist-packages (from google-cloud-aiplatform<2.0.0,>=1.92.0->langchain-google-vertexai) (1.15.0)\n",
            "Requirement already satisfied: typing-extensions in /usr/local/lib/python3.11/dist-packages (from google-cloud-aiplatform<2.0.0,>=1.92.0->langchain-google-vertexai) (4.13.2)\n",
            "Requirement already satisfied: docstring-parser<1 in /usr/local/lib/python3.11/dist-packages (from google-cloud-aiplatform<2.0.0,>=1.92.0->langchain-google-vertexai) (0.16)\n",
            "Requirement already satisfied: google-cloud-core<3.0dev,>=2.3.0 in /usr/local/lib/python3.11/dist-packages (from google-cloud-storage<3.0.0,>=2.18.0->langchain-google-vertexai) (2.4.3)\n",
            "Requirement already satisfied: google-resumable-media>=2.7.2 in /usr/local/lib/python3.11/dist-packages (from google-cloud-storage<3.0.0,>=2.18.0->langchain-google-vertexai) (2.7.2)\n",
            "Requirement already satisfied: requests<3.0.0dev,>=2.18.0 in /usr/local/lib/python3.11/dist-packages (from google-cloud-storage<3.0.0,>=2.18.0->langchain-google-vertexai) (2.32.3)\n",
            "Requirement already satisfied: google-crc32c<2.0dev,>=1.0 in /usr/local/lib/python3.11/dist-packages (from google-cloud-storage<3.0.0,>=2.18.0->langchain-google-vertexai) (1.7.1)\n",
            "Requirement already satisfied: anyio in /usr/local/lib/python3.11/dist-packages (from httpx<0.29.0,>=0.28.0->langchain-google-vertexai) (4.9.0)\n",
            "Requirement already satisfied: certifi in /usr/local/lib/python3.11/dist-packages (from httpx<0.29.0,>=0.28.0->langchain-google-vertexai) (2025.4.26)\n",
            "Requirement already satisfied: httpcore==1.* in /usr/local/lib/python3.11/dist-packages (from httpx<0.29.0,>=0.28.0->langchain-google-vertexai) (1.0.9)\n",
            "Requirement already satisfied: idna in /usr/local/lib/python3.11/dist-packages (from httpx<0.29.0,>=0.28.0->langchain-google-vertexai) (3.10)\n",
            "Requirement already satisfied: h11>=0.16 in /usr/local/lib/python3.11/dist-packages (from httpcore==1.*->httpx<0.29.0,>=0.28.0->langchain-google-vertexai) (0.16.0)\n",
            "Requirement already satisfied: langsmith<0.4,>=0.1.125 in /usr/local/lib/python3.11/dist-packages (from langchain-core<0.4,>=0.3.55->langchain-google-vertexai) (0.3.42)\n",
            "Requirement already satisfied: tenacity!=8.4.0,<10.0.0,>=8.1.0 in /usr/local/lib/python3.11/dist-packages (from langchain-core<0.4,>=0.3.55->langchain-google-vertexai) (9.1.2)\n",
            "Requirement already satisfied: jsonpatch<2.0,>=1.33 in /usr/local/lib/python3.11/dist-packages (from langchain-core<0.4,>=0.3.55->langchain-google-vertexai) (1.33)\n",
            "Requirement already satisfied: PyYAML>=5.3 in /usr/local/lib/python3.11/dist-packages (from langchain-core<0.4,>=0.3.55->langchain-google-vertexai) (6.0.2)\n",
            "Requirement already satisfied: annotated-types>=0.6.0 in /usr/local/lib/python3.11/dist-packages (from pydantic<3.0,>=2.9->langchain-google-vertexai) (0.7.0)\n",
            "Requirement already satisfied: pydantic-core==2.33.2 in /usr/local/lib/python3.11/dist-packages (from pydantic<3.0,>=2.9->langchain-google-vertexai) (2.33.2)\n",
            "Requirement already satisfied: typing-inspection>=0.4.0 in /usr/local/lib/python3.11/dist-packages (from pydantic<3.0,>=2.9->langchain-google-vertexai) (0.4.0)\n",
            "Requirement already satisfied: googleapis-common-protos<2.0.0,>=1.56.2 in /usr/local/lib/python3.11/dist-packages (from google-api-core!=2.0.*,!=2.1.*,!=2.2.*,!=2.3.*,!=2.4.*,!=2.5.*,!=2.6.*,!=2.7.*,<3.0.0,>=1.34.1->google-api-core[grpc]!=2.0.*,!=2.1.*,!=2.2.*,!=2.3.*,!=2.4.*,!=2.5.*,!=2.6.*,!=2.7.*,<3.0.0,>=1.34.1->google-cloud-aiplatform<2.0.0,>=1.92.0->langchain-google-vertexai) (1.70.0)\n",
            "Requirement already satisfied: grpcio<2.0dev,>=1.33.2 in /usr/local/lib/python3.11/dist-packages (from google-api-core[grpc]!=2.0.*,!=2.1.*,!=2.2.*,!=2.3.*,!=2.4.*,!=2.5.*,!=2.6.*,!=2.7.*,<3.0.0,>=1.34.1->google-cloud-aiplatform<2.0.0,>=1.92.0->langchain-google-vertexai) (1.71.0)\n",
            "Requirement already satisfied: grpcio-status<2.0.dev0,>=1.33.2 in /usr/local/lib/python3.11/dist-packages (from google-api-core[grpc]!=2.0.*,!=2.1.*,!=2.2.*,!=2.3.*,!=2.4.*,!=2.5.*,!=2.6.*,!=2.7.*,<3.0.0,>=1.34.1->google-cloud-aiplatform<2.0.0,>=1.92.0->langchain-google-vertexai) (1.71.0)\n",
            "Requirement already satisfied: cachetools<6.0,>=2.0.0 in /usr/local/lib/python3.11/dist-packages (from google-auth<3.0.0,>=2.14.1->google-cloud-aiplatform<2.0.0,>=1.92.0->langchain-google-vertexai) (5.5.2)\n",
            "Requirement already satisfied: pyasn1-modules>=0.2.1 in /usr/local/lib/python3.11/dist-packages (from google-auth<3.0.0,>=2.14.1->google-cloud-aiplatform<2.0.0,>=1.92.0->langchain-google-vertexai) (0.4.2)\n",
            "Requirement already satisfied: rsa<5,>=3.1.4 in /usr/local/lib/python3.11/dist-packages (from google-auth<3.0.0,>=2.14.1->google-cloud-aiplatform<2.0.0,>=1.92.0->langchain-google-vertexai) (4.9.1)\n",
            "Requirement already satisfied: python-dateutil<3.0.0,>=2.8.2 in /usr/local/lib/python3.11/dist-packages (from google-cloud-bigquery!=3.20.0,<4.0.0,>=1.15.0->google-cloud-aiplatform<2.0.0,>=1.92.0->langchain-google-vertexai) (2.9.0.post0)\n",
            "Requirement already satisfied: grpc-google-iam-v1<1.0.0,>=0.14.0 in /usr/local/lib/python3.11/dist-packages (from google-cloud-resource-manager<3.0.0,>=1.3.3->google-cloud-aiplatform<2.0.0,>=1.92.0->langchain-google-vertexai) (0.14.2)\n",
            "Requirement already satisfied: websockets<15.1.0,>=13.0.0 in /usr/local/lib/python3.11/dist-packages (from google-genai<2.0.0,>=1.0.0->google-cloud-aiplatform<2.0.0,>=1.92.0->langchain-google-vertexai) (15.0.1)\n",
            "Requirement already satisfied: sniffio>=1.1 in /usr/local/lib/python3.11/dist-packages (from anyio->httpx<0.29.0,>=0.28.0->langchain-google-vertexai) (1.3.1)\n",
            "Requirement already satisfied: jsonpointer>=1.9 in /usr/local/lib/python3.11/dist-packages (from jsonpatch<2.0,>=1.33->langchain-core<0.4,>=0.3.55->langchain-google-vertexai) (3.0.0)\n",
            "Requirement already satisfied: orjson<4.0.0,>=3.9.14 in /usr/local/lib/python3.11/dist-packages (from langsmith<0.4,>=0.1.125->langchain-core<0.4,>=0.3.55->langchain-google-vertexai) (3.10.18)\n",
            "Requirement already satisfied: requests-toolbelt<2.0.0,>=1.0.0 in /usr/local/lib/python3.11/dist-packages (from langsmith<0.4,>=0.1.125->langchain-core<0.4,>=0.3.55->langchain-google-vertexai) (1.0.0)\n",
            "Requirement already satisfied: zstandard<0.24.0,>=0.23.0 in /usr/local/lib/python3.11/dist-packages (from langsmith<0.4,>=0.1.125->langchain-core<0.4,>=0.3.55->langchain-google-vertexai) (0.23.0)\n",
            "Requirement already satisfied: charset-normalizer<4,>=2 in /usr/local/lib/python3.11/dist-packages (from requests<3.0.0dev,>=2.18.0->google-cloud-storage<3.0.0,>=2.18.0->langchain-google-vertexai) (3.4.2)\n",
            "Requirement already satisfied: urllib3<3,>=1.21.1 in /usr/local/lib/python3.11/dist-packages (from requests<3.0.0dev,>=2.18.0->google-cloud-storage<3.0.0,>=2.18.0->langchain-google-vertexai) (2.4.0)\n",
            "Requirement already satisfied: pyasn1<0.7.0,>=0.6.1 in /usr/local/lib/python3.11/dist-packages (from pyasn1-modules>=0.2.1->google-auth<3.0.0,>=2.14.1->google-cloud-aiplatform<2.0.0,>=1.92.0->langchain-google-vertexai) (0.6.1)\n",
            "Requirement already satisfied: six>=1.5 in /usr/local/lib/python3.11/dist-packages (from python-dateutil<3.0.0,>=2.8.2->google-cloud-bigquery!=3.20.0,<4.0.0,>=1.15.0->google-cloud-aiplatform<2.0.0,>=1.92.0->langchain-google-vertexai) (1.17.0)\n",
            "Requirement already satisfied: langgraph in /usr/local/lib/python3.11/dist-packages (0.4.7)\n",
            "Requirement already satisfied: langchain in /usr/local/lib/python3.11/dist-packages (0.3.25)\n",
            "Requirement already satisfied: langchain-core>=0.1 in /usr/local/lib/python3.11/dist-packages (from langgraph) (0.3.59)\n",
            "Requirement already satisfied: langgraph-checkpoint>=2.0.26 in /usr/local/lib/python3.11/dist-packages (from langgraph) (2.0.26)\n",
            "Requirement already satisfied: langgraph-prebuilt>=0.2.0 in /usr/local/lib/python3.11/dist-packages (from langgraph) (0.2.1)\n",
            "Requirement already satisfied: langgraph-sdk>=0.1.42 in /usr/local/lib/python3.11/dist-packages (from langgraph) (0.1.70)\n",
            "Requirement already satisfied: pydantic>=2.7.4 in /usr/local/lib/python3.11/dist-packages (from langgraph) (2.11.4)\n",
            "Requirement already satisfied: xxhash>=3.5.0 in /usr/local/lib/python3.11/dist-packages (from langgraph) (3.5.0)\n",
            "Requirement already satisfied: langchain-text-splitters<1.0.0,>=0.3.8 in /usr/local/lib/python3.11/dist-packages (from langchain) (0.3.8)\n",
            "Requirement already satisfied: langsmith<0.4,>=0.1.17 in /usr/local/lib/python3.11/dist-packages (from langchain) (0.3.42)\n",
            "Requirement already satisfied: SQLAlchemy<3,>=1.4 in /usr/local/lib/python3.11/dist-packages (from langchain) (2.0.40)\n",
            "Requirement already satisfied: requests<3,>=2 in /usr/local/lib/python3.11/dist-packages (from langchain) (2.32.3)\n",
            "Requirement already satisfied: PyYAML>=5.3 in /usr/local/lib/python3.11/dist-packages (from langchain) (6.0.2)\n",
            "Requirement already satisfied: tenacity!=8.4.0,<10.0.0,>=8.1.0 in /usr/local/lib/python3.11/dist-packages (from langchain-core>=0.1->langgraph) (9.1.2)\n",
            "Requirement already satisfied: jsonpatch<2.0,>=1.33 in /usr/local/lib/python3.11/dist-packages (from langchain-core>=0.1->langgraph) (1.33)\n",
            "Requirement already satisfied: packaging<25,>=23.2 in /usr/local/lib/python3.11/dist-packages (from langchain-core>=0.1->langgraph) (24.2)\n",
            "Requirement already satisfied: typing-extensions>=4.7 in /usr/local/lib/python3.11/dist-packages (from langchain-core>=0.1->langgraph) (4.13.2)\n",
            "Requirement already satisfied: ormsgpack<2.0.0,>=1.8.0 in /usr/local/lib/python3.11/dist-packages (from langgraph-checkpoint>=2.0.26->langgraph) (1.10.0)\n",
            "Requirement already satisfied: httpx>=0.25.2 in /usr/local/lib/python3.11/dist-packages (from langgraph-sdk>=0.1.42->langgraph) (0.28.1)\n",
            "Requirement already satisfied: orjson>=3.10.1 in /usr/local/lib/python3.11/dist-packages (from langgraph-sdk>=0.1.42->langgraph) (3.10.18)\n",
            "Requirement already satisfied: requests-toolbelt<2.0.0,>=1.0.0 in /usr/local/lib/python3.11/dist-packages (from langsmith<0.4,>=0.1.17->langchain) (1.0.0)\n",
            "Requirement already satisfied: zstandard<0.24.0,>=0.23.0 in /usr/local/lib/python3.11/dist-packages (from langsmith<0.4,>=0.1.17->langchain) (0.23.0)\n",
            "Requirement already satisfied: annotated-types>=0.6.0 in /usr/local/lib/python3.11/dist-packages (from pydantic>=2.7.4->langgraph) (0.7.0)\n",
            "Requirement already satisfied: pydantic-core==2.33.2 in /usr/local/lib/python3.11/dist-packages (from pydantic>=2.7.4->langgraph) (2.33.2)\n",
            "Requirement already satisfied: typing-inspection>=0.4.0 in /usr/local/lib/python3.11/dist-packages (from pydantic>=2.7.4->langgraph) (0.4.0)\n",
            "Requirement already satisfied: charset-normalizer<4,>=2 in /usr/local/lib/python3.11/dist-packages (from requests<3,>=2->langchain) (3.4.2)\n",
            "Requirement already satisfied: idna<4,>=2.5 in /usr/local/lib/python3.11/dist-packages (from requests<3,>=2->langchain) (3.10)\n",
            "Requirement already satisfied: urllib3<3,>=1.21.1 in /usr/local/lib/python3.11/dist-packages (from requests<3,>=2->langchain) (2.4.0)\n",
            "Requirement already satisfied: certifi>=2017.4.17 in /usr/local/lib/python3.11/dist-packages (from requests<3,>=2->langchain) (2025.4.26)\n",
            "Requirement already satisfied: greenlet>=1 in /usr/local/lib/python3.11/dist-packages (from SQLAlchemy<3,>=1.4->langchain) (3.2.2)\n",
            "Requirement already satisfied: anyio in /usr/local/lib/python3.11/dist-packages (from httpx>=0.25.2->langgraph-sdk>=0.1.42->langgraph) (4.9.0)\n",
            "Requirement already satisfied: httpcore==1.* in /usr/local/lib/python3.11/dist-packages (from httpx>=0.25.2->langgraph-sdk>=0.1.42->langgraph) (1.0.9)\n",
            "Requirement already satisfied: h11>=0.16 in /usr/local/lib/python3.11/dist-packages (from httpcore==1.*->httpx>=0.25.2->langgraph-sdk>=0.1.42->langgraph) (0.16.0)\n",
            "Requirement already satisfied: jsonpointer>=1.9 in /usr/local/lib/python3.11/dist-packages (from jsonpatch<2.0,>=1.33->langchain-core>=0.1->langgraph) (3.0.0)\n",
            "Requirement already satisfied: sniffio>=1.1 in /usr/local/lib/python3.11/dist-packages (from anyio->httpx>=0.25.2->langgraph-sdk>=0.1.42->langgraph) (1.3.1)\n",
            "Requirement already satisfied: langgraph in /usr/local/lib/python3.11/dist-packages (0.4.7)\n",
            "Requirement already satisfied: langsmith in /usr/local/lib/python3.11/dist-packages (0.3.42)\n",
            "Requirement already satisfied: langchain-core>=0.1 in /usr/local/lib/python3.11/dist-packages (from langgraph) (0.3.59)\n",
            "Requirement already satisfied: langgraph-checkpoint>=2.0.26 in /usr/local/lib/python3.11/dist-packages (from langgraph) (2.0.26)\n",
            "Requirement already satisfied: langgraph-prebuilt>=0.2.0 in /usr/local/lib/python3.11/dist-packages (from langgraph) (0.2.1)\n",
            "Requirement already satisfied: langgraph-sdk>=0.1.42 in /usr/local/lib/python3.11/dist-packages (from langgraph) (0.1.70)\n",
            "Requirement already satisfied: pydantic>=2.7.4 in /usr/local/lib/python3.11/dist-packages (from langgraph) (2.11.4)\n",
            "Requirement already satisfied: xxhash>=3.5.0 in /usr/local/lib/python3.11/dist-packages (from langgraph) (3.5.0)\n",
            "Requirement already satisfied: httpx<1,>=0.23.0 in /usr/local/lib/python3.11/dist-packages (from langsmith) (0.28.1)\n",
            "Requirement already satisfied: orjson<4.0.0,>=3.9.14 in /usr/local/lib/python3.11/dist-packages (from langsmith) (3.10.18)\n",
            "Requirement already satisfied: packaging>=23.2 in /usr/local/lib/python3.11/dist-packages (from langsmith) (24.2)\n",
            "Requirement already satisfied: requests<3,>=2 in /usr/local/lib/python3.11/dist-packages (from langsmith) (2.32.3)\n",
            "Requirement already satisfied: requests-toolbelt<2.0.0,>=1.0.0 in /usr/local/lib/python3.11/dist-packages (from langsmith) (1.0.0)\n",
            "Requirement already satisfied: zstandard<0.24.0,>=0.23.0 in /usr/local/lib/python3.11/dist-packages (from langsmith) (0.23.0)\n",
            "Requirement already satisfied: anyio in /usr/local/lib/python3.11/dist-packages (from httpx<1,>=0.23.0->langsmith) (4.9.0)\n",
            "Requirement already satisfied: certifi in /usr/local/lib/python3.11/dist-packages (from httpx<1,>=0.23.0->langsmith) (2025.4.26)\n",
            "Requirement already satisfied: httpcore==1.* in /usr/local/lib/python3.11/dist-packages (from httpx<1,>=0.23.0->langsmith) (1.0.9)\n",
            "Requirement already satisfied: idna in /usr/local/lib/python3.11/dist-packages (from httpx<1,>=0.23.0->langsmith) (3.10)\n",
            "Requirement already satisfied: h11>=0.16 in /usr/local/lib/python3.11/dist-packages (from httpcore==1.*->httpx<1,>=0.23.0->langsmith) (0.16.0)\n",
            "Requirement already satisfied: tenacity!=8.4.0,<10.0.0,>=8.1.0 in /usr/local/lib/python3.11/dist-packages (from langchain-core>=0.1->langgraph) (9.1.2)\n",
            "Requirement already satisfied: jsonpatch<2.0,>=1.33 in /usr/local/lib/python3.11/dist-packages (from langchain-core>=0.1->langgraph) (1.33)\n",
            "Requirement already satisfied: PyYAML>=5.3 in /usr/local/lib/python3.11/dist-packages (from langchain-core>=0.1->langgraph) (6.0.2)\n",
            "Requirement already satisfied: typing-extensions>=4.7 in /usr/local/lib/python3.11/dist-packages (from langchain-core>=0.1->langgraph) (4.13.2)\n",
            "Requirement already satisfied: ormsgpack<2.0.0,>=1.8.0 in /usr/local/lib/python3.11/dist-packages (from langgraph-checkpoint>=2.0.26->langgraph) (1.10.0)\n",
            "Requirement already satisfied: annotated-types>=0.6.0 in /usr/local/lib/python3.11/dist-packages (from pydantic>=2.7.4->langgraph) (0.7.0)\n",
            "Requirement already satisfied: pydantic-core==2.33.2 in /usr/local/lib/python3.11/dist-packages (from pydantic>=2.7.4->langgraph) (2.33.2)\n",
            "Requirement already satisfied: typing-inspection>=0.4.0 in /usr/local/lib/python3.11/dist-packages (from pydantic>=2.7.4->langgraph) (0.4.0)\n",
            "Requirement already satisfied: charset-normalizer<4,>=2 in /usr/local/lib/python3.11/dist-packages (from requests<3,>=2->langsmith) (3.4.2)\n",
            "Requirement already satisfied: urllib3<3,>=1.21.1 in /usr/local/lib/python3.11/dist-packages (from requests<3,>=2->langsmith) (2.4.0)\n",
            "Requirement already satisfied: jsonpointer>=1.9 in /usr/local/lib/python3.11/dist-packages (from jsonpatch<2.0,>=1.33->langchain-core>=0.1->langgraph) (3.0.0)\n",
            "Requirement already satisfied: sniffio>=1.1 in /usr/local/lib/python3.11/dist-packages (from anyio->httpx<1,>=0.23.0->langsmith) (1.3.1)\n",
            "Requirement already satisfied: langchain_tavily in /usr/local/lib/python3.11/dist-packages (0.1.6)\n",
            "Requirement already satisfied: aiohttp<4.0.0,>=3.11.14 in /usr/local/lib/python3.11/dist-packages (from langchain_tavily) (3.11.15)\n",
            "Requirement already satisfied: langchain<0.4.0,>=0.3.20 in /usr/local/lib/python3.11/dist-packages (from langchain_tavily) (0.3.25)\n",
            "Requirement already satisfied: langchain-core<0.4.0,>=0.3.15 in /usr/local/lib/python3.11/dist-packages (from langchain_tavily) (0.3.59)\n",
            "Requirement already satisfied: mypy<2.0.0,>=1.15.0 in /usr/local/lib/python3.11/dist-packages (from langchain_tavily) (1.15.0)\n",
            "Requirement already satisfied: requests<3.0.0,>=2.32.3 in /usr/local/lib/python3.11/dist-packages (from langchain_tavily) (2.32.3)\n",
            "Requirement already satisfied: aiohappyeyeballs>=2.3.0 in /usr/local/lib/python3.11/dist-packages (from aiohttp<4.0.0,>=3.11.14->langchain_tavily) (2.6.1)\n",
            "Requirement already satisfied: aiosignal>=1.1.2 in /usr/local/lib/python3.11/dist-packages (from aiohttp<4.0.0,>=3.11.14->langchain_tavily) (1.3.2)\n",
            "Requirement already satisfied: attrs>=17.3.0 in /usr/local/lib/python3.11/dist-packages (from aiohttp<4.0.0,>=3.11.14->langchain_tavily) (25.3.0)\n",
            "Requirement already satisfied: frozenlist>=1.1.1 in /usr/local/lib/python3.11/dist-packages (from aiohttp<4.0.0,>=3.11.14->langchain_tavily) (1.6.0)\n",
            "Requirement already satisfied: multidict<7.0,>=4.5 in /usr/local/lib/python3.11/dist-packages (from aiohttp<4.0.0,>=3.11.14->langchain_tavily) (6.4.3)\n",
            "Requirement already satisfied: propcache>=0.2.0 in /usr/local/lib/python3.11/dist-packages (from aiohttp<4.0.0,>=3.11.14->langchain_tavily) (0.3.1)\n",
            "Requirement already satisfied: yarl<2.0,>=1.17.0 in /usr/local/lib/python3.11/dist-packages (from aiohttp<4.0.0,>=3.11.14->langchain_tavily) (1.20.0)\n",
            "Requirement already satisfied: langchain-text-splitters<1.0.0,>=0.3.8 in /usr/local/lib/python3.11/dist-packages (from langchain<0.4.0,>=0.3.20->langchain_tavily) (0.3.8)\n",
            "Requirement already satisfied: langsmith<0.4,>=0.1.17 in /usr/local/lib/python3.11/dist-packages (from langchain<0.4.0,>=0.3.20->langchain_tavily) (0.3.42)\n",
            "Requirement already satisfied: pydantic<3.0.0,>=2.7.4 in /usr/local/lib/python3.11/dist-packages (from langchain<0.4.0,>=0.3.20->langchain_tavily) (2.11.4)\n",
            "Requirement already satisfied: SQLAlchemy<3,>=1.4 in /usr/local/lib/python3.11/dist-packages (from langchain<0.4.0,>=0.3.20->langchain_tavily) (2.0.40)\n",
            "Requirement already satisfied: PyYAML>=5.3 in /usr/local/lib/python3.11/dist-packages (from langchain<0.4.0,>=0.3.20->langchain_tavily) (6.0.2)\n",
            "Requirement already satisfied: tenacity!=8.4.0,<10.0.0,>=8.1.0 in /usr/local/lib/python3.11/dist-packages (from langchain-core<0.4.0,>=0.3.15->langchain_tavily) (9.1.2)\n",
            "Requirement already satisfied: jsonpatch<2.0,>=1.33 in /usr/local/lib/python3.11/dist-packages (from langchain-core<0.4.0,>=0.3.15->langchain_tavily) (1.33)\n",
            "Requirement already satisfied: packaging<25,>=23.2 in /usr/local/lib/python3.11/dist-packages (from langchain-core<0.4.0,>=0.3.15->langchain_tavily) (24.2)\n",
            "Requirement already satisfied: typing-extensions>=4.7 in /usr/local/lib/python3.11/dist-packages (from langchain-core<0.4.0,>=0.3.15->langchain_tavily) (4.13.2)\n",
            "Requirement already satisfied: mypy_extensions>=1.0.0 in /usr/local/lib/python3.11/dist-packages (from mypy<2.0.0,>=1.15.0->langchain_tavily) (1.1.0)\n",
            "Requirement already satisfied: charset-normalizer<4,>=2 in /usr/local/lib/python3.11/dist-packages (from requests<3.0.0,>=2.32.3->langchain_tavily) (3.4.2)\n",
            "Requirement already satisfied: idna<4,>=2.5 in /usr/local/lib/python3.11/dist-packages (from requests<3.0.0,>=2.32.3->langchain_tavily) (3.10)\n",
            "Requirement already satisfied: urllib3<3,>=1.21.1 in /usr/local/lib/python3.11/dist-packages (from requests<3.0.0,>=2.32.3->langchain_tavily) (2.4.0)\n",
            "Requirement already satisfied: certifi>=2017.4.17 in /usr/local/lib/python3.11/dist-packages (from requests<3.0.0,>=2.32.3->langchain_tavily) (2025.4.26)\n",
            "Requirement already satisfied: jsonpointer>=1.9 in /usr/local/lib/python3.11/dist-packages (from jsonpatch<2.0,>=1.33->langchain-core<0.4.0,>=0.3.15->langchain_tavily) (3.0.0)\n",
            "Requirement already satisfied: httpx<1,>=0.23.0 in /usr/local/lib/python3.11/dist-packages (from langsmith<0.4,>=0.1.17->langchain<0.4.0,>=0.3.20->langchain_tavily) (0.28.1)\n",
            "Requirement already satisfied: orjson<4.0.0,>=3.9.14 in /usr/local/lib/python3.11/dist-packages (from langsmith<0.4,>=0.1.17->langchain<0.4.0,>=0.3.20->langchain_tavily) (3.10.18)\n",
            "Requirement already satisfied: requests-toolbelt<2.0.0,>=1.0.0 in /usr/local/lib/python3.11/dist-packages (from langsmith<0.4,>=0.1.17->langchain<0.4.0,>=0.3.20->langchain_tavily) (1.0.0)\n",
            "Requirement already satisfied: zstandard<0.24.0,>=0.23.0 in /usr/local/lib/python3.11/dist-packages (from langsmith<0.4,>=0.1.17->langchain<0.4.0,>=0.3.20->langchain_tavily) (0.23.0)\n",
            "Requirement already satisfied: annotated-types>=0.6.0 in /usr/local/lib/python3.11/dist-packages (from pydantic<3.0.0,>=2.7.4->langchain<0.4.0,>=0.3.20->langchain_tavily) (0.7.0)\n",
            "Requirement already satisfied: pydantic-core==2.33.2 in /usr/local/lib/python3.11/dist-packages (from pydantic<3.0.0,>=2.7.4->langchain<0.4.0,>=0.3.20->langchain_tavily) (2.33.2)\n",
            "Requirement already satisfied: typing-inspection>=0.4.0 in /usr/local/lib/python3.11/dist-packages (from pydantic<3.0.0,>=2.7.4->langchain<0.4.0,>=0.3.20->langchain_tavily) (0.4.0)\n",
            "Requirement already satisfied: greenlet>=1 in /usr/local/lib/python3.11/dist-packages (from SQLAlchemy<3,>=1.4->langchain<0.4.0,>=0.3.20->langchain_tavily) (3.2.2)\n",
            "Requirement already satisfied: anyio in /usr/local/lib/python3.11/dist-packages (from httpx<1,>=0.23.0->langsmith<0.4,>=0.1.17->langchain<0.4.0,>=0.3.20->langchain_tavily) (4.9.0)\n",
            "Requirement already satisfied: httpcore==1.* in /usr/local/lib/python3.11/dist-packages (from httpx<1,>=0.23.0->langsmith<0.4,>=0.1.17->langchain<0.4.0,>=0.3.20->langchain_tavily) (1.0.9)\n",
            "Requirement already satisfied: h11>=0.16 in /usr/local/lib/python3.11/dist-packages (from httpcore==1.*->httpx<1,>=0.23.0->langsmith<0.4,>=0.1.17->langchain<0.4.0,>=0.3.20->langchain_tavily) (0.16.0)\n",
            "Requirement already satisfied: sniffio>=1.1 in /usr/local/lib/python3.11/dist-packages (from anyio->httpx<1,>=0.23.0->langsmith<0.4,>=0.1.17->langchain<0.4.0,>=0.3.20->langchain_tavily) (1.3.1)\n",
            "Requirement already satisfied: langgraph-supervisor in /usr/local/lib/python3.11/dist-packages (0.0.25)\n",
            "Requirement already satisfied: langgraph>=0.3.5 in /usr/local/lib/python3.11/dist-packages (from langgraph-supervisor) (0.4.7)\n",
            "Requirement already satisfied: langgraph-prebuilt>=0.1.7 in /usr/local/lib/python3.11/dist-packages (from langgraph-supervisor) (0.2.1)\n",
            "Requirement already satisfied: langchain-core>=0.3.40 in /usr/local/lib/python3.11/dist-packages (from langgraph-supervisor) (0.3.59)\n",
            "Requirement already satisfied: langsmith<0.4,>=0.1.125 in /usr/local/lib/python3.11/dist-packages (from langchain-core>=0.3.40->langgraph-supervisor) (0.3.42)\n",
            "Requirement already satisfied: tenacity!=8.4.0,<10.0.0,>=8.1.0 in /usr/local/lib/python3.11/dist-packages (from langchain-core>=0.3.40->langgraph-supervisor) (9.1.2)\n",
            "Requirement already satisfied: jsonpatch<2.0,>=1.33 in /usr/local/lib/python3.11/dist-packages (from langchain-core>=0.3.40->langgraph-supervisor) (1.33)\n",
            "Requirement already satisfied: PyYAML>=5.3 in /usr/local/lib/python3.11/dist-packages (from langchain-core>=0.3.40->langgraph-supervisor) (6.0.2)\n",
            "Requirement already satisfied: packaging<25,>=23.2 in /usr/local/lib/python3.11/dist-packages (from langchain-core>=0.3.40->langgraph-supervisor) (24.2)\n",
            "Requirement already satisfied: typing-extensions>=4.7 in /usr/local/lib/python3.11/dist-packages (from langchain-core>=0.3.40->langgraph-supervisor) (4.13.2)\n",
            "Requirement already satisfied: pydantic<3.0.0,>=2.5.2 in /usr/local/lib/python3.11/dist-packages (from langchain-core>=0.3.40->langgraph-supervisor) (2.11.4)\n",
            "Requirement already satisfied: langgraph-checkpoint>=2.0.26 in /usr/local/lib/python3.11/dist-packages (from langgraph>=0.3.5->langgraph-supervisor) (2.0.26)\n",
            "Requirement already satisfied: langgraph-sdk>=0.1.42 in /usr/local/lib/python3.11/dist-packages (from langgraph>=0.3.5->langgraph-supervisor) (0.1.70)\n",
            "Requirement already satisfied: xxhash>=3.5.0 in /usr/local/lib/python3.11/dist-packages (from langgraph>=0.3.5->langgraph-supervisor) (3.5.0)\n",
            "Requirement already satisfied: jsonpointer>=1.9 in /usr/local/lib/python3.11/dist-packages (from jsonpatch<2.0,>=1.33->langchain-core>=0.3.40->langgraph-supervisor) (3.0.0)\n",
            "Requirement already satisfied: ormsgpack<2.0.0,>=1.8.0 in /usr/local/lib/python3.11/dist-packages (from langgraph-checkpoint>=2.0.26->langgraph>=0.3.5->langgraph-supervisor) (1.10.0)\n",
            "Requirement already satisfied: httpx>=0.25.2 in /usr/local/lib/python3.11/dist-packages (from langgraph-sdk>=0.1.42->langgraph>=0.3.5->langgraph-supervisor) (0.28.1)\n",
            "Requirement already satisfied: orjson>=3.10.1 in /usr/local/lib/python3.11/dist-packages (from langgraph-sdk>=0.1.42->langgraph>=0.3.5->langgraph-supervisor) (3.10.18)\n",
            "Requirement already satisfied: requests<3,>=2 in /usr/local/lib/python3.11/dist-packages (from langsmith<0.4,>=0.1.125->langchain-core>=0.3.40->langgraph-supervisor) (2.32.3)\n",
            "Requirement already satisfied: requests-toolbelt<2.0.0,>=1.0.0 in /usr/local/lib/python3.11/dist-packages (from langsmith<0.4,>=0.1.125->langchain-core>=0.3.40->langgraph-supervisor) (1.0.0)\n",
            "Requirement already satisfied: zstandard<0.24.0,>=0.23.0 in /usr/local/lib/python3.11/dist-packages (from langsmith<0.4,>=0.1.125->langchain-core>=0.3.40->langgraph-supervisor) (0.23.0)\n",
            "Requirement already satisfied: annotated-types>=0.6.0 in /usr/local/lib/python3.11/dist-packages (from pydantic<3.0.0,>=2.5.2->langchain-core>=0.3.40->langgraph-supervisor) (0.7.0)\n",
            "Requirement already satisfied: pydantic-core==2.33.2 in /usr/local/lib/python3.11/dist-packages (from pydantic<3.0.0,>=2.5.2->langchain-core>=0.3.40->langgraph-supervisor) (2.33.2)\n",
            "Requirement already satisfied: typing-inspection>=0.4.0 in /usr/local/lib/python3.11/dist-packages (from pydantic<3.0.0,>=2.5.2->langchain-core>=0.3.40->langgraph-supervisor) (0.4.0)\n",
            "Requirement already satisfied: anyio in /usr/local/lib/python3.11/dist-packages (from httpx>=0.25.2->langgraph-sdk>=0.1.42->langgraph>=0.3.5->langgraph-supervisor) (4.9.0)\n",
            "Requirement already satisfied: certifi in /usr/local/lib/python3.11/dist-packages (from httpx>=0.25.2->langgraph-sdk>=0.1.42->langgraph>=0.3.5->langgraph-supervisor) (2025.4.26)\n",
            "Requirement already satisfied: httpcore==1.* in /usr/local/lib/python3.11/dist-packages (from httpx>=0.25.2->langgraph-sdk>=0.1.42->langgraph>=0.3.5->langgraph-supervisor) (1.0.9)\n",
            "Requirement already satisfied: idna in /usr/local/lib/python3.11/dist-packages (from httpx>=0.25.2->langgraph-sdk>=0.1.42->langgraph>=0.3.5->langgraph-supervisor) (3.10)\n",
            "Requirement already satisfied: h11>=0.16 in /usr/local/lib/python3.11/dist-packages (from httpcore==1.*->httpx>=0.25.2->langgraph-sdk>=0.1.42->langgraph>=0.3.5->langgraph-supervisor) (0.16.0)\n",
            "Requirement already satisfied: charset-normalizer<4,>=2 in /usr/local/lib/python3.11/dist-packages (from requests<3,>=2->langsmith<0.4,>=0.1.125->langchain-core>=0.3.40->langgraph-supervisor) (3.4.2)\n",
            "Requirement already satisfied: urllib3<3,>=1.21.1 in /usr/local/lib/python3.11/dist-packages (from requests<3,>=2->langsmith<0.4,>=0.1.125->langchain-core>=0.3.40->langgraph-supervisor) (2.4.0)\n",
            "Requirement already satisfied: sniffio>=1.1 in /usr/local/lib/python3.11/dist-packages (from anyio->httpx>=0.25.2->langgraph-sdk>=0.1.42->langgraph>=0.3.5->langgraph-supervisor) (1.3.1)\n"
          ]
        }
      ]
    },
    {
      "cell_type": "markdown",
      "source": [
        "# Level 1\n",
        "Objective\n",
        " - Construct a LangGraph node called chatbot, powered by an LLM (Gemini preferred, though\n",
        "any open-source model may be used)\n",
        " - Integrate a companion tool: the calculator, capable of performing basic arithmetic and\n",
        "supports basic BODMAS rule.\n",
        " - Visualize the awakening: Once your LangGraph is wired, render the graph as an image. We\n",
        "want to see the neural pathways—the AI's skeleton—coming to life"
      ],
      "metadata": {
        "id": "uQEvAtqJY3sY"
      }
    },
    {
      "cell_type": "code",
      "source": [
        "# from langgraph.prebuilt import create_react_agent\n",
        "# from langgraph.checkpoint.memory import InMemorySaver"
      ],
      "metadata": {
        "id": "lFWuMCS_TpMa"
      },
      "execution_count": 2,
      "outputs": []
    },
    {
      "cell_type": "code",
      "source": [
        "# checkpointer = InMemorySaver()\n",
        "# from pydantic import BaseModel\n"
      ],
      "metadata": {
        "id": "C7SEfvzOTsy-"
      },
      "execution_count": 3,
      "outputs": []
    },
    {
      "cell_type": "code",
      "source": [
        "# def maths(exp: str) -> int:\n",
        "#     \"\"\"Evaluate the expression.\"\"\"\n",
        "#     return eval(exp)\n",
        "\n",
        "# class MathResponse(BaseModel):\n",
        "#     conditions: str\n",
        "\n",
        "# agent = create_react_agent(\n",
        "#     model=llm,\n",
        "#     tools=[maths],\n",
        "#     prompt=\"Solve the mathematical expression by passing the numeric part to tool using BODMAS\",\n",
        "#     checkpointer=checkpointer,\n",
        "#     response_format=MathResponse\n",
        "# )\n",
        "\n",
        "# # Run the agent\n",
        "# config = {\"configurable\": {\"thread_id\": \"1\"}}\n",
        "# sf_response = agent.invoke(\n",
        "#     {\"messages\": [{\"role\": \"user\", \"content\": \"calculate 3*5\"}]},\n",
        "#     config\n",
        "# )\n",
        "# # ny_response = agent.invoke(\n",
        "# #     {\"messages\": [{\"role\": \"user\", \"content\": \"calculate 2*5\"}]},\n",
        "# #     config\n",
        "# # )"
      ],
      "metadata": {
        "id": "WzYTxgFKJ2kO"
      },
      "execution_count": 4,
      "outputs": []
    },
    {
      "cell_type": "code",
      "source": [
        "# sf_response[\"structured_response\"]"
      ],
      "metadata": {
        "id": "xWaAfeWXU7OD"
      },
      "execution_count": 5,
      "outputs": []
    },
    {
      "cell_type": "markdown",
      "source": [
        "The above code returned the conditions instead of result so I modified it little bit and changed the static prompt also and now it works"
      ],
      "metadata": {
        "id": "OUUz6SaaZLJl"
      }
    },
    {
      "cell_type": "code",
      "source": [
        "# def maths(exp: str) -> int:\n",
        "#     \"\"\"Evaluate the expression.\"\"\"\n",
        "#     return eval(exp)\n",
        "\n",
        "# class MathResponse(BaseModel):\n",
        "#     result: float\n",
        "\n",
        "# agent = create_react_agent(\n",
        "#     model=llm,\n",
        "#     tools=[maths],\n",
        "#     prompt=\"Identify the numeric expression and solve it using the `maths` tool following BODMAS. Return only the final result as `result`.\",\n",
        "#     checkpointer=checkpointer,\n",
        "#     response_format=MathResponse\n",
        "# )\n",
        "\n",
        "# # Run the agent\n",
        "# config = {\"configurable\": {\"thread_id\": \"1\"}}\n",
        "# response = agent.invoke(\n",
        "#     {\"messages\": [{\"role\": \"user\", \"content\": \"calculate 3*5\"}]},\n",
        "#     config\n",
        "# )"
      ],
      "metadata": {
        "id": "eBmIoOBHXKO4"
      },
      "execution_count": 6,
      "outputs": []
    },
    {
      "cell_type": "code",
      "source": [
        "# response[\"structured_response\"]"
      ],
      "metadata": {
        "id": "MLmhfdm6XrK5"
      },
      "execution_count": 7,
      "outputs": []
    },
    {
      "cell_type": "markdown",
      "source": [
        "####Ok the above thing was not asked in the task so now I will build the required chatbot and construct its graph."
      ],
      "metadata": {
        "id": "CoCNHON-Z6Rs"
      }
    },
    {
      "cell_type": "code",
      "source": [
        "def calculator_func(input_str):\n",
        "      result = eval(input_str)\n",
        "      return f\"Result: {result}\""
      ],
      "metadata": {
        "id": "PbWOC7-gaTJZ"
      },
      "execution_count": 8,
      "outputs": []
    },
    {
      "cell_type": "code",
      "source": [
        "class State(TypedDict):\n",
        "    messages: Annotated[list, add_messages]\n",
        "\n",
        "graph_builder = StateGraph(State)\n",
        "\n",
        "tool = Tool(\n",
        "    name=\"calculator_tool\",\n",
        "    func=calculator_func,\n",
        "    description=\"Use this tool to perform basic arithmetic calculations. The input should be a valid mathematical expression.\",\n",
        ")\n",
        "tools = [tool]\n",
        "llm_with_tools = llm.bind_tools(tools)\n",
        "\n",
        "def chatbot(state: State):\n",
        "    return {\"messages\": [llm_with_tools.invoke(state[\"messages\"])]}\n",
        "\n",
        "graph_builder.add_node(\"chatbot\", chatbot)\n",
        "\n",
        "tool_node = ToolNode(tools=[tool])\n",
        "graph_builder.add_node(\"tools\", tool_node)\n",
        "\n",
        "graph_builder.add_conditional_edges(\n",
        "    \"chatbot\",\n",
        "    tools_condition,\n",
        ")\n",
        "# Any time a tool is called, we return to the chatbot to decide the next step\n",
        "graph_builder.add_edge(\"tools\", \"chatbot\")\n",
        "graph_builder.add_edge(START, \"chatbot\")\n",
        "graph = graph_builder.compile()"
      ],
      "metadata": {
        "id": "m42734pWvnxl"
      },
      "execution_count": 9,
      "outputs": []
    },
    {
      "cell_type": "code",
      "source": [
        "from IPython.display import Image, display\n",
        "display(Image(graph.get_graph().draw_mermaid_png()))"
      ],
      "metadata": {
        "colab": {
          "base_uri": "https://localhost:8080/",
          "height": 266
        },
        "id": "8u1bfU7KoLta",
        "outputId": "28c38a5a-055c-458c-c96e-14f77c695857"
      },
      "execution_count": 10,
      "outputs": [
        {
          "output_type": "display_data",
          "data": {
            "image/png": "[encoded data removed]",
            "text/plain": [
              "<IPython.core.display.Image object>"
            ]
          },
          "metadata": {}
        }
      ]
    },
    {
      "cell_type": "code",
      "source": [
        "def stream_graph_updates(user_input: str):\n",
        "    for event in graph.stream({\"messages\": [{\"role\": \"user\", \"content\": user_input}]}):\n",
        "        for value in event.values():\n",
        "            print(\"Assistant:\", value[\"messages\"][-1].content)\n",
        "while True:\n",
        "      user_input = input(\"User: \")\n",
        "      if user_input.lower() in [\"quit\", \"exit\", \"q\"]:\n",
        "          print(\"Goodbye!\")\n",
        "          break\n",
        "      stream_graph_updates(user_input)"
      ],
      "metadata": {
        "colab": {
          "base_uri": "https://localhost:8080/"
        },
        "id": "dA10rBUVoRg6",
        "outputId": "90f5d397-277a-4c8d-f4b6-131571fb582c"
      },
      "execution_count": 11,
      "outputs": [
        {
          "output_type": "stream",
          "name": "stdout",
          "text": [
            "User: what is 8*9-5\n",
            "Assistant: \n",
            "Assistant: Result: 67\n",
            "Assistant: 8*9-5 = 67\n",
            "User: calculate 69*96\n",
            "Assistant: \n",
            "Assistant: Result: 6624\n",
            "Assistant: 69 multiplied by 96 is 6624.\n",
            "User: q\n",
            "Goodbye!\n"
          ]
        }
      ]
    },
    {
      "cell_type": "markdown",
      "source": [
        "#Level 2\n",
        "Objectives\n",
        "- Fashion Recommender Tool: Given a query like “What’s trending in Tokyo?”, it should parse\n",
        "the location and surface real-time fashion trends\n",
        "- Weather Extractor Tool: Using a weather API, this tool must fetch and return current\n",
        "weather conditions based on the input query"
      ],
      "metadata": {
        "id": "im5FNGwFxZcc"
      }
    },
    {
      "cell_type": "code",
      "source": [
        "import requests\n",
        "\n",
        "def get_weather(city: str) -> str:\n",
        "    \"\"\"\n",
        "    Fetch current weather data for a given city using OpenWeatherMap API.\n",
        "    \"\"\"\n",
        "    url = f\"http://api.openweathermap.org/data/2.5/weather?q={city}&appid={WEATHER_API_KEY}&units=metric\"\n",
        "\n",
        "    response = requests.get(url)\n",
        "\n",
        "    data = response.json()\n",
        "    description = data[\"weather\"][0][\"description\"]\n",
        "    temperature = data[\"main\"][\"temp\"]\n",
        "    return f\"The current weather in {city} is {description} with a temperature of {temperature}°C.\"\n",
        "\n",
        "def calculator_func(input_str):\n",
        "    result = eval(input_str)\n",
        "    return f\"Result: {result}\"\n"
      ],
      "metadata": {
        "id": "jlSSgzG2-NW8"
      },
      "execution_count": 12,
      "outputs": []
    },
    {
      "cell_type": "code",
      "source": [
        "class State(TypedDict):\n",
        "    messages: Annotated[list, add_messages]\n",
        "\n",
        "graph_builder = StateGraph(State)\n",
        "\n",
        "calc_tool = Tool(\n",
        "    name=\"calculator_tool\",\n",
        "    func=calculator_func,\n",
        "    description=\"Use this tool to perform basic arithmetic calculations. The input should be a valid mathematical expression.\",\n",
        ")\n",
        "\n",
        "weather_tool = Tool(\n",
        "    name=\"weather_tool\",\n",
        "    func=get_weather,\n",
        "    description=\"Use this tool to fetch current weather conditions for a given city. The input should be a city name.\",\n",
        ")\n",
        "\n",
        "search_tool = TavilySearch(max_results=2)\n",
        "tools = [calc_tool,search_tool,weather_tool]\n",
        "llm_with_tools = llm.bind_tools(tools)\n",
        "\n",
        "def chatbot(state: State):\n",
        "    return {\"messages\": [llm_with_tools.invoke(state[\"messages\"])]}\n",
        "\n",
        "graph_builder.add_node(\"chatbot\", chatbot)\n",
        "\n",
        "tool_node = ToolNode(tools)\n",
        "graph_builder.add_node(\"tools\", tool_node)\n",
        "\n",
        "graph_builder.add_conditional_edges(\n",
        "    \"chatbot\",\n",
        "    tools_condition,\n",
        ")\n",
        "# Any time a tool is called, we return to the chatbot to decide the next step\n",
        "graph_builder.add_edge(\"tools\", \"chatbot\")\n",
        "graph_builder.add_edge(START, \"chatbot\")\n",
        "graph = graph_builder.compile()"
      ],
      "metadata": {
        "id": "V-cAfc9R1yYV"
      },
      "execution_count": 13,
      "outputs": []
    },
    {
      "cell_type": "code",
      "source": [
        "from IPython.display import Image, display\n",
        "display(Image(graph.get_graph().draw_mermaid_png()))"
      ],
      "metadata": {
        "colab": {
          "base_uri": "https://localhost:8080/",
          "height": 266
        },
        "id": "spL6uils3YEe",
        "outputId": "2d8d444f-9283-41fb-d125-5d1a182bea2a"
      },
      "execution_count": 14,
      "outputs": [
        {
          "output_type": "display_data",
          "data": {
            "image/png": "[encoded data removed]",
            "text/plain": [
              "<IPython.core.display.Image object>"
            ]
          },
          "metadata": {}
        }
      ]
    },
    {
      "cell_type": "code",
      "source": [
        "def stream_graph_updates(user_input: str):\n",
        "    for event in graph.stream({\"messages\": [{\"role\": \"user\", \"content\": user_input}]}):\n",
        "        for value in event.values():\n",
        "            print(\"Assistant:\", value[\"messages\"][-1].content)\n",
        "while True:\n",
        "      user_input = input(\"User: \")\n",
        "      if user_input.lower() in [\"quit\", \"exit\", \"q\"]:\n",
        "          print(\"Goodbye!\")\n",
        "          break\n",
        "      stream_graph_updates(user_input)"
      ],
      "metadata": {
        "colab": {
          "base_uri": "https://localhost:8080/"
        },
        "id": "3pN6ANRS3f5q",
        "outputId": "87fa9c39-45a9-4784-fe5b-1710b4989a67"
      },
      "execution_count": 15,
      "outputs": [
        {
          "output_type": "stream",
          "name": "stdout",
          "text": [
            "User: What’s trending in Tokyo?\n",
            "Assistant: \n",
            "Assistant: {\"query\": \"trending in Tokyo\", \"follow_up_questions\": null, \"answer\": null, \"images\": [], \"results\": [{\"url\": \"https://timelesstokyo.com/trend\", \"title\": \"NEW & TRENDING IN TOKYO - TIMELESS TOKYO\", \"content\": \"#ACCOMMODATION\\n#ACTIVITIES\\n#ARCHITECTURE\\n#ART\\n#CRAFTSMANSHIP\\n#CULTURE\\n#ENTERTAINMENT\\n#FASHION\\n#GASTRONOMY\\n#HEALTH AND WELLNESS\\n#OUTDOOR\\n#SHOPPING\\n#TRADITION\\n\\nNEW & TRENDING IN TOKYO\\nDiscover Tokyo’s new trend\\n\\nHOME\\nNEW & TRENDING IN TOKYO [...] ETHICAL EXPERIENCES IN TOKYO If you're seeking a more ethical way to experience Japan, the resurgence of traditional crafts and the uptick in upcycling will catch your eye in Tokyo. Against the backdrop of a bustling metropolis, you can find locals committed to positive change around almost every corner. [...] ETHICAL EXPERIENCES IN TOKYO If you're seeking a more ethical way to experience Japan, the resurgence of traditional crafts and the uptick in upcycling will catch your eye in Tokyo. Against the backdrop of a bustling metropolis, you can find locals committed to positive change around almost every corner.\", \"score\": 0.7147281, \"raw_content\": null}, {\"url\": \"https://www.gotokyo.org/en/new-and-now/new-and-trending/index.html\", \"title\": \"New & Trending | The Official Tokyo Travel Guide, GO TOKYO\", \"content\": \"Search results: 0\\n\\n\\n\\nSearch\\n\\n\\n\\nMain content starts here.\\n\\nNew & Trending\\n\\n\\n\\nExplore Tokyo Using the Metaverse and AR\\n\\nCraftsmanship in Tokyo: Japanese Craft Workshops Led by Skilled Artisans\\n\\nPerfectly Placed Cafes for Cherry Blossom Fans\\n\\nInspiring Female Chef-owned Restaurants in Tokyo\\n\\nIndulge in a Luxurious Moment at Tokyoâs Chocolate Shops this Valentineâs\\n\\nExplore Koenji: Tokyo's Live Music Scene\\n\\nEnjoy Tokyoâs Winter Charm at an Ice Skating Rink\", \"score\": 0.69795954, \"raw_content\": null}], \"response_time\": 1.82}\n",
            "Assistant: Based on what I found, here are some things trending in Tokyo:\n",
            "\n",
            "*   **Ethical experiences:** There's a resurgence of traditional crafts and an uptick in upcycling.\n",
            "*   **Craftsmanship:** You can find Japanese craft workshops led by skilled artisans.\n",
            "*   **Technology:** Exploring Tokyo using the Metaverse and AR is a trend.\n",
            "*   **Food and Drink:** Cafes perfectly placed for cherry blossom viewing, inspiring female chef-owned restaurants, and chocolate shops are popular.\n",
            "*   **Entertainment:** The live music scene in Koenji is also mentioned as trending.\n",
            "User: Whats weather at Guwahati?\n",
            "Assistant: \n",
            "Assistant: The current weather in Guwahati is haze with a temperature of 32.95°C.\n",
            "Assistant: The current weather in Guwahati is haze with a temperature of 32.95°C.\n",
            "User: what is 9*9\n",
            "Assistant: \n",
            "Assistant: Result: 81\n",
            "Assistant: 9 * 9 is 81.\n",
            "User: q\n",
            "Goodbye!\n"
          ]
        }
      ]
    },
    {
      "cell_type": "markdown",
      "source": [
        "#Level 3\n",
        "Objective\n",
        "- Equip the WeatherMind with routing logic, the ability to determine which tool to use based on the intent of a user prompt. Should it calculate? Forecast weather? Recommend a look\n",
        "- Enhance the chatbot’s capabilities with conversational memory, allowing it to remember and\n",
        "build on prior interactions, enabling flowing dialogue"
      ],
      "metadata": {
        "id": "Vk1de8iO_Ef2"
      }
    },
    {
      "cell_type": "markdown",
      "source": [
        "Since Objective 1 was already achieved in level 2, I will directly go to objective 2."
      ],
      "metadata": {
        "id": "bEMnMia8_VLS"
      }
    },
    {
      "cell_type": "code",
      "source": [
        "memory = MemorySaver()\n",
        "graph = graph_builder.compile(checkpointer=memory)"
      ],
      "metadata": {
        "id": "kH5PLpGi_xpt"
      },
      "execution_count": 16,
      "outputs": []
    },
    {
      "cell_type": "code",
      "source": [
        "from IPython.display import Image, display\n",
        "\n",
        "try:\n",
        "    display(Image(graph.get_graph().draw_mermaid_png()))\n",
        "except Exception:\n",
        "    # This requires some extra dependencies and is optional\n",
        "    pass"
      ],
      "metadata": {
        "colab": {
          "base_uri": "https://localhost:8080/",
          "height": 266
        },
        "id": "fDZbaUcA_0cn",
        "outputId": "dadf222f-a9ff-4052-8e1b-c6fcc5b8f036"
      },
      "execution_count": 17,
      "outputs": [
        {
          "output_type": "display_data",
          "data": {
            "image/png": "[encoded data removed]",
            "text/plain": [
              "<IPython.core.display.Image object>"
            ]
          },
          "metadata": {}
        }
      ]
    },
    {
      "cell_type": "code",
      "source": [
        "def stream_graph_updates(user_input: str):\n",
        "    for event in graph.stream(\n",
        "    {\"messages\": [{\"role\": \"user\", \"content\": user_input}]},\n",
        "    {\"configurable\": {\"thread_id\": \"1\"}},\n",
        "    ):\n",
        "        for value in event.values():\n",
        "            print(\"Assistant:\", value[\"messages\"][-1].pretty_print())\n",
        "while True:\n",
        "      user_input = input(\"User: \")\n",
        "      if user_input.lower() in [\"quit\", \"exit\", \"q\"]:\n",
        "          print(\"Goodbye!\")\n",
        "          break\n",
        "      stream_graph_updates(user_input)"
      ],
      "metadata": {
        "colab": {
          "base_uri": "https://localhost:8080/"
        },
        "id": "vTLMSHjZAKz_",
        "outputId": "f02b65ae-0c55-4edf-9443-554a04d8fa59"
      },
      "execution_count": 18,
      "outputs": [
        {
          "output_type": "stream",
          "name": "stdout",
          "text": [
            "User: hi Im Shreyansh\n",
            "==================================\u001b[1m Ai Message \u001b[0m==================================\n",
            "\n",
            "Hello Shreyansh! It's nice to meet you. How can I assist you today?\n",
            "Assistant: None\n",
            "User: whats my name?\n",
            "==================================\u001b[1m Ai Message \u001b[0m==================================\n",
            "\n",
            "Your name is Shreyansh.\n",
            "Assistant: None\n",
            "User: whats the weather in Delhi?\n",
            "==================================\u001b[1m Ai Message \u001b[0m==================================\n",
            "Tool Calls:\n",
            "  weather_tool (78e910d5-9356-4799-84f9-de4bc996df8c)\n",
            " Call ID: 78e910d5-9356-4799-84f9-de4bc996df8c\n",
            "  Args:\n",
            "    __arg1: Delhi\n",
            "Assistant: None\n",
            "=================================\u001b[1m Tool Message \u001b[0m=================================\n",
            "Name: weather_tool\n",
            "\n",
            "The current weather in Delhi is haze with a temperature of 29.05°C.\n",
            "Assistant: None\n",
            "==================================\u001b[1m Ai Message \u001b[0m==================================\n",
            "\n",
            "The current weather in Delhi is haze with a temperature of 29.05°C.\n",
            "Assistant: None\n",
            "User: what I just asked?\n",
            "==================================\u001b[1m Ai Message \u001b[0m==================================\n",
            "\n",
            "You just asked about the weather in Delhi.\n",
            "Assistant: None\n",
            "User: q\n",
            "Goodbye!\n"
          ]
        }
      ]
    },
    {
      "cell_type": "markdown",
      "source": [
        "#Level 4\n",
        "Objectives\n",
        "- Define multiple agents, each with a distinct role, maybe researchers, decision-makers,\n",
        "analysts, it’s up to you\n",
        "- Expand or redefine the toolset and even the core application (beyond just weather/fashion)\n",
        "to justify the architecture\n",
        "- Implement custom routing logic between agents, ensuring they collaborate smoothly, avoid\n",
        "conflict, and can fail gracefully"
      ],
      "metadata": {
        "id": "4xS9xtoPCPUg"
      }
    },
    {
      "cell_type": "markdown",
      "source": [
        "####Defining dummy functions for agents."
      ],
      "metadata": {
        "id": "bhEIM_nygcDY"
      }
    },
    {
      "cell_type": "code",
      "source": [
        "def book_hotel(hotel_name: str):\n",
        "    \"\"\"Book a hotel\"\"\"\n",
        "    return f\"Successfully booked a stay at {hotel_name}.\"\n",
        "\n",
        "def book_flight(input: str):\n",
        "    \"\"\"Book a flight\"\"\"\n",
        "    import re\n",
        "    match = re.search(r\"from\\s+(.*?)\\s+to\\s+(.*)\", input, re.IGNORECASE)\n",
        "    from_city = match.group(1).strip().title()\n",
        "    to_city = match.group(2).strip().title()\n",
        "    return f\"Successfully booked a flight from {from_city} to {to_city}.\"\n",
        "\n",
        "flight_tool = Tool(\n",
        "    name=\"book_flight\",\n",
        "    func=book_flight,\n",
        "    description=\"Book a flight. Input is a sentence like 'book me a flight from Mumbai to Delhi'.\"\n",
        ")\n",
        "\n",
        "hotel_tool = Tool(\n",
        "    name=\"book_hotel\",\n",
        "    func=book_hotel,\n",
        "    description=\"Book a hotel at the hotel name given\"\n",
        ")"
      ],
      "metadata": {
        "id": "y_14LGLPHpCr"
      },
      "execution_count": 19,
      "outputs": []
    },
    {
      "cell_type": "markdown",
      "source": [
        "####Create Agents & Supervisor to look onto Agents."
      ],
      "metadata": {
        "id": "w8aI-hZuJl32"
      }
    },
    {
      "cell_type": "code",
      "source": [
        "flight_assistant = create_react_agent(\n",
        "    model=llm,\n",
        "    tools=[flight_tool],\n",
        "    prompt=(\n",
        "        \"You are a helpful assistant that books flights.\"\n",
        "        \"Always use the `flight_tool` tool when called.\"\n",
        "    ),\n",
        "    name=\"flight_assistant\"\n",
        ")\n",
        "\n",
        "hotel_assistant = create_react_agent(\n",
        "    model=llm,\n",
        "    tools=[hotel_tool],\n",
        "    prompt=(\n",
        "        \"You are a helpful assistant that books hotels.\"\n",
        "        \"Always use the `book_hotel` tool when a user asks to book a hotel.\"\n",
        "    ),\n",
        "    name=\"hotel_assistant\"\n",
        ")\n",
        "\n",
        "search_assistant = create_react_agent(\n",
        "    model=llm,\n",
        "    tools=[search_tool],\n",
        "    prompt=(\n",
        "        \"You are a helpful assistant that searches internet.\"\n",
        "        \"Always use the `search_tool` tool.\"\n",
        "    ),\n",
        "    name=\"search_assistant\"\n",
        ")\n",
        "\n",
        "calc_assistant = create_react_agent(\n",
        "    model=llm,\n",
        "    tools=[calc_tool],\n",
        "    prompt=(\n",
        "        \"You are a helpful assistant that calculates expressions.\"\n",
        "        \"Always use the `calculator_func` tool when a user gives an arithmetic expression.\"\n",
        "    ),\n",
        "    name=\"calc_assistant\"\n",
        ")\n",
        "\n",
        "weather_assistant = create_react_agent(\n",
        "    model=llm,\n",
        "    tools=[weather_tool],\n",
        "    prompt=(\n",
        "        \"You are a helpful assistant that tells the current weather in a city.\"\n",
        "        \"Always use the `get_weather` tool when a user asks for weather.\"\n",
        "    ),\n",
        "    name=\"weather_assistant\"\n",
        ")\n",
        "\n",
        "memory = MemorySaver()\n",
        "\n",
        "supervisor = create_supervisor(\n",
        "    agents=[\n",
        "        flight_assistant,\n",
        "        hotel_assistant,\n",
        "        search_assistant,\n",
        "        calc_assistant,\n",
        "        weather_assistant,\n",
        "    ],\n",
        "    model=llm,\n",
        "    prompt=(\n",
        "        \"You manage several assistants: flight booking, hotel booking, calculator, weather, and web search. \"\n",
        "        \"Assign the user's input to the correct assistant and print what assistant gives.\"\n",
        "    )\n",
        ").compile(checkpointer=memory)"
      ],
      "metadata": {
        "id": "yH176fHRJc3P"
      },
      "execution_count": 26,
      "outputs": []
    },
    {
      "cell_type": "markdown",
      "source": [
        "####Streaming chatbot"
      ],
      "metadata": {
        "id": "sEj3hKFdJ4-G"
      }
    },
    {
      "cell_type": "code",
      "source": [
        "def stream_supervisor_updates(user_input: str):\n",
        "    for event in supervisor.stream(\n",
        "    {\"messages\": [{\"role\": \"user\", \"content\": user_input}]},\n",
        "    {\"configurable\": {\"thread_id\": \"2\"}},\n",
        "    ):\n",
        "        for value in event.values():\n",
        "            print(\"Assistant:\", value[\"messages\"][-1].pretty_print())\n",
        "\n",
        "while True:\n",
        "    user_input = input(\"User: \")\n",
        "    if user_input.lower() in [\"exit\", \"quit\", \"q\"]:\n",
        "        print(\"Goodbye!\")\n",
        "        break\n",
        "    stream_supervisor_updates(user_input)"
      ],
      "metadata": {
        "colab": {
          "base_uri": "https://localhost:8080/"
        },
        "id": "h0QytHE6Je77",
        "outputId": "54a74c7a-2862-4a22-9e6e-a6a1f5f0d9bc"
      },
      "execution_count": 27,
      "outputs": [
        {
          "output_type": "stream",
          "name": "stdout",
          "text": [
            "User: book a flight from delhi to kolkata\n",
            "=================================\u001b[1m Tool Message \u001b[0m=================================\n",
            "Name: transfer_to_flight_assistant\n",
            "\n",
            "Successfully transferred to flight_assistant\n",
            "Assistant: None\n",
            "=================================\u001b[1m Tool Message \u001b[0m=================================\n",
            "Name: transfer_back_to_supervisor\n",
            "\n",
            "Successfully transferred back to supervisor\n",
            "Assistant: None\n",
            "==================================\u001b[1m Ai Message \u001b[0m==================================\n",
            "Name: supervisor\n",
            "\n",
            "OK. I have booked a flight from Delhi to Kolkata for you.\n",
            "Assistant: None\n",
            "User: book the hotel radisson blu\n",
            "=================================\u001b[1m Tool Message \u001b[0m=================================\n",
            "Name: transfer_to_hotel_assistant\n",
            "\n",
            "Successfully transferred to hotel_assistant\n",
            "Assistant: None\n",
            "=================================\u001b[1m Tool Message \u001b[0m=================================\n",
            "Name: transfer_back_to_supervisor\n",
            "\n",
            "Successfully transferred back to supervisor\n",
            "Assistant: None\n",
            "==================================\u001b[1m Ai Message \u001b[0m==================================\n",
            "Name: supervisor\n",
            "\n",
            "OK. I have booked a stay at radisson blu for you.\n",
            "Assistant: None\n",
            "User: whats trending in India\n",
            "=================================\u001b[1m Tool Message \u001b[0m=================================\n",
            "Name: transfer_to_search_assistant\n",
            "\n",
            "Successfully transferred to search_assistant\n",
            "Assistant: None\n",
            "=================================\u001b[1m Tool Message \u001b[0m=================================\n",
            "Name: transfer_back_to_supervisor\n",
            "\n",
            "Successfully transferred back to supervisor\n",
            "Assistant: None\n",
            "==================================\u001b[1m Ai Message \u001b[0m==================================\n",
            "Name: supervisor\n",
            "\n",
            "Based on the latest news, here are some trending topics in India:\n",
            "\n",
            "*   There's news about an MP minister, Vijay Shah, reportedly \"missing\" after a controversial remark.\n",
            "*   Canada's silence on Donald Trump's Harvard situation is also being discussed, especially as former PM Stephen Harper's daughter just finished her first year there.\n",
            "*   Shashi Tharoor's address in the US regarding Pakistan-sponsored terror is trending.\n",
            "*   In sports, IPL is still a hot topic, with updates on teams like Delhi Capitals. There are also mentions of other sports personalities like Aaron Rodgers, Juan Soto, and Elly De La Cruz.\n",
            "*   News related to personalities like Danica Patrick, Aaron Rodgers, Boris Johnson, Dwyane Wade, Gabrielle Union, and Meghana Raj Sarja are also appearing in trending articles.\n",
            "*   Other trending topics include updates on a visa fraud case, an asteroid, and discussions around the anime \"Death Note\".\n",
            "Assistant: None\n",
            "User: what is weather in New York\n",
            "=================================\u001b[1m Tool Message \u001b[0m=================================\n",
            "Name: transfer_to_weather_assistant\n",
            "\n",
            "Successfully transferred to weather_assistant\n",
            "Assistant: None\n",
            "=================================\u001b[1m Tool Message \u001b[0m=================================\n",
            "Name: transfer_back_to_supervisor\n",
            "\n",
            "Successfully transferred back to supervisor\n",
            "Assistant: None\n",
            "==================================\u001b[1m Ai Message \u001b[0m==================================\n",
            "Name: supervisor\n",
            "\n",
            "The current weather in New York is clear sky with a temperature of 11.56°C.\n",
            "Assistant: None\n",
            "User: what is 9*99\n",
            "=================================\u001b[1m Tool Message \u001b[0m=================================\n",
            "Name: transfer_to_calc_assistant\n",
            "\n",
            "Successfully transferred to calc_assistant\n",
            "Assistant: None\n",
            "=================================\u001b[1m Tool Message \u001b[0m=================================\n",
            "Name: transfer_back_to_supervisor\n",
            "\n",
            "Successfully transferred back to supervisor\n",
            "Assistant: None\n",
            "==================================\u001b[1m Ai Message \u001b[0m==================================\n",
            "Name: supervisor\n",
            "\n",
            "The result of 9*99 is 891.\n",
            "Assistant: None\n",
            "User: q\n",
            "Goodbye!\n"
          ]
        }
      ]
    }
  ]
}